{
 "cells": [
  {
   "cell_type": "code",
   "execution_count": 1,
   "metadata": {
    "collapsed": false
   },
   "outputs": [],
   "source": [
    "\"\"\"\n",
    "Principal Component Analysis applied to the Iris dataset.\n",
    "\"\"\"\n",
    "\n",
    "import numpy as np\n",
    "import matplotlib.pyplot as plt\n",
    "from sklearn.neighbors import KNeighborsClassifier  # import class\n",
    "from sklearn.cross_validation import cross_val_score\n",
    "\n",
    "from sklearn import decomposition\n",
    "from sklearn import datasets\n",
    "%matplotlib inline"
   ]
  },
  {
   "cell_type": "code",
   "execution_count": 2,
   "metadata": {
    "collapsed": true
   },
   "outputs": [],
   "source": [
    "# Load in the data\n",
    "iris = datasets.load_iris()\n",
    "X = iris.data\n",
    "y = iris.target\n",
    "target_names = iris.target_names"
   ]
  },
  {
   "cell_type": "code",
   "execution_count": 3,
   "metadata": {
    "collapsed": false
   },
   "outputs": [
    {
     "data": {
      "text/plain": [
       "0.96666666666666679"
      ]
     },
     "execution_count": 3,
     "metadata": {},
     "output_type": "execute_result"
    }
   ],
   "source": [
    "# KNN with the original iris\n",
    "knn = KNeighborsClassifier(n_neighbors=5)\n",
    "cross_val_score(knn, X, y, cv=10, scoring='accuracy').mean()"
   ]
  },
  {
   "cell_type": "code",
   "execution_count": 85,
   "metadata": {
    "collapsed": true
   },
   "outputs": [],
   "source": [
    "#############################\n",
    "### PCA with 2 components  ##\n",
    "#############################"
   ]
  },
  {
   "cell_type": "code",
   "execution_count": 4,
   "metadata": {
    "collapsed": false
   },
   "outputs": [
    {
     "data": {
      "text/plain": [
       "<matplotlib.text.Text at 0x1126d0d50>"
      ]
     },
     "execution_count": 4,
     "metadata": {},
     "output_type": "execute_result"
    },
    {
     "data": {
      "image/png": "[encoded data removed]",
      "text/plain": [
       "<matplotlib.figure.Figure at 0x112664110>"
      ]
     },
     "metadata": {},
     "output_type": "display_data"
    }
   ],
   "source": [
    "pca = decomposition.PCA(n_components=2)   #n = 2 is the number of principle componets,  \n",
    "X_r = pca.fit_transform(X)\n",
    "\n",
    "plt.figure()\n",
    "for c, i, target_name in zip(\"rgb\", [0, 1, 2], target_names):\n",
    "    plt.scatter(X_r[y == i, 0], X_r[y == i, 1], c=c, label=target_name)        \n",
    "plt.legend()\n",
    "plt.title('PCA(2 components) of IRIS dataset')"
   ]
  },
  {
   "cell_type": "markdown",
   "metadata": {},
   "source": [
    "Note the axis are not the same anymore! They are no longer anything such as \"sepal length\" or \"petal width\""
   ]
  },
  {
   "cell_type": "code",
   "execution_count": null,
   "metadata": {
    "collapsed": true
   },
   "outputs": [],
   "source": [
    "#  these are principle components "
   ]
  },
  {
   "cell_type": "code",
   "execution_count": 5,
   "metadata": {
    "collapsed": false
   },
   "outputs": [],
   "source": [
    "X_transformedSK = pca.transform(X)"
   ]
  },
  {
   "cell_type": "code",
   "execution_count": 6,
   "metadata": {
    "collapsed": false
   },
   "outputs": [
    {
     "data": {
      "text/plain": [
       "array([[-2.68420713, -0.32660731],\n",
       "       [-2.71539062,  0.16955685],\n",
       "       [-2.88981954,  0.13734561],\n",
       "       [-2.7464372 ,  0.31112432],\n",
       "       [-2.72859298, -0.33392456],\n",
       "       [-2.27989736, -0.74778271],\n",
       "       [-2.82089068,  0.08210451],\n",
       "       [-2.62648199, -0.17040535],\n",
       "       [-2.88795857,  0.57079803],\n",
       "       [-2.67384469,  0.1066917 ],\n",
       "       [-2.50652679, -0.65193501],\n",
       "       [-2.61314272, -0.02152063],\n",
       "       [-2.78743398,  0.22774019],\n",
       "       [-3.22520045,  0.50327991],\n",
       "       [-2.64354322, -1.1861949 ],\n",
       "       [-2.38386932, -1.34475434],\n",
       "       [-2.6225262 , -0.81808967],\n",
       "       [-2.64832273, -0.31913667],\n",
       "       [-2.19907796, -0.87924409],\n",
       "       [-2.58734619, -0.52047364],\n",
       "       [-2.3105317 , -0.39786782],\n",
       "       [-2.54323491, -0.44003175],\n",
       "       [-3.21585769, -0.14161557],\n",
       "       [-2.30312854, -0.10552268],\n",
       "       [-2.35617109,  0.03120959],\n",
       "       [-2.50791723,  0.13905634],\n",
       "       [-2.469056  , -0.13788731],\n",
       "       [-2.56239095, -0.37468456],\n",
       "       [-2.63982127, -0.31929007],\n",
       "       [-2.63284791,  0.19007583],\n",
       "       [-2.58846205,  0.19739308],\n",
       "       [-2.41007734, -0.41808001],\n",
       "       [-2.64763667, -0.81998263],\n",
       "       [-2.59715948, -1.10002193],\n",
       "       [-2.67384469,  0.1066917 ],\n",
       "       [-2.86699985, -0.0771931 ],\n",
       "       [-2.62522846, -0.60680001],\n",
       "       [-2.67384469,  0.1066917 ],\n",
       "       [-2.98184266,  0.48025005],\n",
       "       [-2.59032303, -0.23605934],\n",
       "       [-2.77013891, -0.27105942],\n",
       "       [-2.85221108,  0.93286537],\n",
       "       [-2.99829644,  0.33430757],\n",
       "       [-2.4055141 , -0.19591726],\n",
       "       [-2.20883295, -0.44269603],\n",
       "       [-2.71566519,  0.24268148],\n",
       "       [-2.53757337, -0.51036755],\n",
       "       [-2.8403213 ,  0.22057634],\n",
       "       [-2.54268576, -0.58628103],\n",
       "       [-2.70391231, -0.11501085],\n",
       "       [ 1.28479459, -0.68543919],\n",
       "       [ 0.93241075, -0.31919809],\n",
       "       [ 1.46406132, -0.50418983],\n",
       "       [ 0.18096721,  0.82560394],\n",
       "       [ 1.08713449, -0.07539039],\n",
       "       [ 0.64043675,  0.41732348],\n",
       "       [ 1.09522371, -0.28389121],\n",
       "       [-0.75146714,  1.00110751],\n",
       "       [ 1.04329778, -0.22895691],\n",
       "       [-0.01019007,  0.72057487],\n",
       "       [-0.5110862 ,  1.26249195],\n",
       "       [ 0.51109806,  0.10228411],\n",
       "       [ 0.26233576,  0.5478933 ],\n",
       "       [ 0.98404455,  0.12436042],\n",
       "       [-0.174864  ,  0.25181557],\n",
       "       [ 0.92757294, -0.46823621],\n",
       "       [ 0.65959279,  0.35197629],\n",
       "       [ 0.23454059,  0.33192183],\n",
       "       [ 0.94236171,  0.54182226],\n",
       "       [ 0.0432464 ,  0.58148945],\n",
       "       [ 1.11624072,  0.08421401],\n",
       "       [ 0.35678657,  0.06682383],\n",
       "       [ 1.29646885,  0.32756152],\n",
       "       [ 0.92050265,  0.18239036],\n",
       "       [ 0.71400821, -0.15037915],\n",
       "       [ 0.89964086, -0.32961098],\n",
       "       [ 1.33104142, -0.24466952],\n",
       "       [ 1.55739627, -0.26739258],\n",
       "       [ 0.81245555,  0.16233157],\n",
       "       [-0.30733476,  0.36508661],\n",
       "       [-0.07034289,  0.70253793],\n",
       "       [-0.19188449,  0.67749054],\n",
       "       [ 0.13499495,  0.31170964],\n",
       "       [ 1.37873698,  0.42120514],\n",
       "       [ 0.58727485,  0.48328427],\n",
       "       [ 0.8072055 , -0.19505396],\n",
       "       [ 1.22042897, -0.40803534],\n",
       "       [ 0.81286779,  0.370679  ],\n",
       "       [ 0.24519516,  0.26672804],\n",
       "       [ 0.16451343,  0.67966147],\n",
       "       [ 0.46303099,  0.66952655],\n",
       "       [ 0.89016045,  0.03381244],\n",
       "       [ 0.22887905,  0.40225762],\n",
       "       [-0.70708128,  1.00842476],\n",
       "       [ 0.35553304,  0.50321849],\n",
       "       [ 0.33112695,  0.21118014],\n",
       "       [ 0.37523823,  0.29162202],\n",
       "       [ 0.64169028, -0.01907118],\n",
       "       [-0.90846333,  0.75156873],\n",
       "       [ 0.29780791,  0.34701652],\n",
       "       [ 2.53172698,  0.01184224],\n",
       "       [ 1.41407223,  0.57492506],\n",
       "       [ 2.61648461, -0.34193529],\n",
       "       [ 1.97081495,  0.18112569],\n",
       "       [ 2.34975798,  0.04188255],\n",
       "       [ 3.39687992, -0.54716805],\n",
       "       [ 0.51938325,  1.19135169],\n",
       "       [ 2.9320051 , -0.35237701],\n",
       "       [ 2.31967279,  0.24554817],\n",
       "       [ 2.91813423, -0.78038063],\n",
       "       [ 1.66193495, -0.2420384 ],\n",
       "       [ 1.80234045,  0.21615461],\n",
       "       [ 2.16537886, -0.21528028],\n",
       "       [ 1.34459422,  0.77641543],\n",
       "       [ 1.5852673 ,  0.53930705],\n",
       "       [ 1.90474358, -0.11881899],\n",
       "       [ 1.94924878, -0.04073026],\n",
       "       [ 3.48876538, -1.17154454],\n",
       "       [ 3.79468686, -0.25326557],\n",
       "       [ 1.29832982,  0.76101394],\n",
       "       [ 2.42816726, -0.37678197],\n",
       "       [ 1.19809737,  0.60557896],\n",
       "       [ 3.49926548, -0.45677347],\n",
       "       [ 1.38766825,  0.20403099],\n",
       "       [ 2.27585365, -0.33338653],\n",
       "       [ 2.61419383, -0.55836695],\n",
       "       [ 1.25762518,  0.179137  ],\n",
       "       [ 1.29066965,  0.11642525],\n",
       "       [ 2.12285398,  0.21085488],\n",
       "       [ 2.3875644 , -0.46251925],\n",
       "       [ 2.84096093, -0.37274259],\n",
       "       [ 3.2323429 , -1.37052404],\n",
       "       [ 2.15873837,  0.21832553],\n",
       "       [ 1.4431026 ,  0.14380129],\n",
       "       [ 1.77964011,  0.50146479],\n",
       "       [ 3.07652162, -0.68576444],\n",
       "       [ 2.14498686, -0.13890661],\n",
       "       [ 1.90486293, -0.04804751],\n",
       "       [ 1.16885347,  0.1645025 ],\n",
       "       [ 2.10765373, -0.37148225],\n",
       "       [ 2.31430339, -0.18260885],\n",
       "       [ 1.92245088, -0.40927118],\n",
       "       [ 1.41407223,  0.57492506],\n",
       "       [ 2.56332271, -0.2759745 ],\n",
       "       [ 2.41939122, -0.30350394],\n",
       "       [ 1.94401705, -0.18741522],\n",
       "       [ 1.52566363,  0.37502085],\n",
       "       [ 1.76404594, -0.07851919],\n",
       "       [ 1.90162908, -0.11587675],\n",
       "       [ 1.38966613,  0.28288671]])"
      ]
     },
     "execution_count": 6,
     "metadata": {},
     "output_type": "execute_result"
    }
   ],
   "source": [
    "X_transformedSK\n",
    "# only 2 columns!!  \n",
    "# the eigenvectors become the new columns, took the first two eigenvectors and ignored 3rd/4th"
   ]
  },
  {
   "cell_type": "code",
   "execution_count": 7,
   "metadata": {
    "collapsed": false
   },
   "outputs": [
    {
     "data": {
      "text/plain": [
       "0.96000000000000019"
      ]
     },
     "execution_count": 7,
     "metadata": {},
     "output_type": "execute_result"
    }
   ],
   "source": [
    "# KNN with PCAed data\n",
    "knn = KNeighborsClassifier(n_neighbors=5)\n",
    "cross_val_score(knn, X_transformedSK, y, cv=10, scoring='accuracy').mean()"
   ]
  },
  {
   "cell_type": "code",
   "execution_count": 8,
   "metadata": {
    "collapsed": true
   },
   "outputs": [],
   "source": [
    "X_reconstituted = pca.inverse_transform(X_transformedSK)     \n",
    "# Turn it back into its 4 column using only 2 principal components"
   ]
  },
  {
   "cell_type": "code",
   "execution_count": 9,
   "metadata": {
    "collapsed": false
   },
   "outputs": [
    {
     "data": {
      "text/plain": [
       "<matplotlib.collections.PathCollection at 0x115601dd0>"
      ]
     },
     "execution_count": 9,
     "metadata": {},
     "output_type": "execute_result"
    },
    {
     "data": {
      "image/png": "[encoded data removed]",
      "text/plain": [
       "<matplotlib.figure.Figure at 0x112640150>"
      ]
     },
     "metadata": {},
     "output_type": "display_data"
    }
   ],
   "source": [
    "plt.scatter(X[:,2], X[:,3])\n",
    "# Original Data"
   ]
  },
  {
   "cell_type": "code",
   "execution_count": 10,
   "metadata": {
    "collapsed": false
   },
   "outputs": [
    {
     "data": {
      "text/plain": [
       "<matplotlib.collections.PathCollection at 0x1156b9e90>"
      ]
     },
     "execution_count": 10,
     "metadata": {},
     "output_type": "execute_result"
    },
    {
     "data": {
      "image/png": "[encoded data removed]",
      "text/plain": [
       "<matplotlib.figure.Figure at 0x11561b6d0>"
      ]
     },
     "metadata": {},
     "output_type": "display_data"
    }
   ],
   "source": [
    "plt.scatter(X_reconstituted[:,2], X_reconstituted[:,3])\n",
    "# it is only looking at 2 dimensions of data!"
   ]
  },
  {
   "cell_type": "code",
   "execution_count": 11,
   "metadata": {
    "collapsed": false
   },
   "outputs": [
    {
     "data": {
      "text/plain": [
       "array([[-2.68420713, -0.32660731,  0.02151184],\n",
       "       [-2.71539062,  0.16955685,  0.20352143],\n",
       "       [-2.88981954,  0.13734561, -0.02470924],\n",
       "       [-2.7464372 ,  0.31112432, -0.03767198],\n",
       "       [-2.72859298, -0.33392456, -0.0962297 ],\n",
       "       [-2.27989736, -0.74778271, -0.17432562],\n",
       "       [-2.82089068,  0.08210451, -0.26425109],\n",
       "       [-2.62648199, -0.17040535,  0.01580151],\n",
       "       [-2.88795857,  0.57079803, -0.02733541],\n",
       "       [-2.67384469,  0.1066917 ,  0.1915333 ],\n",
       "       [-2.50652679, -0.65193501,  0.069275  ],\n",
       "       [-2.61314272, -0.02152063, -0.10765035],\n",
       "       [-2.78743398,  0.22774019,  0.20032779],\n",
       "       [-3.22520045,  0.50327991, -0.06841363],\n",
       "       [-2.64354322, -1.1861949 ,  0.1445057 ],\n",
       "       [-2.38386932, -1.34475434, -0.28373066],\n",
       "       [-2.6225262 , -0.81808967, -0.14531599],\n",
       "       [-2.64832273, -0.31913667, -0.03339425],\n",
       "       [-2.19907796, -0.87924409,  0.11452146],\n",
       "       [-2.58734619, -0.52047364, -0.21957209],\n",
       "       [-2.3105317 , -0.39786782,  0.23369561],\n",
       "       [-2.54323491, -0.44003175, -0.21483637],\n",
       "       [-3.21585769, -0.14161557, -0.29961898],\n",
       "       [-2.30312854, -0.10552268, -0.04568004],\n",
       "       [-2.35617109,  0.03120959, -0.12940758],\n",
       "       [-2.50791723,  0.13905634,  0.24711634],\n",
       "       [-2.469056  , -0.13788731, -0.10126308],\n",
       "       [-2.56239095, -0.37468456,  0.07235916],\n",
       "       [-2.63982127, -0.31929007,  0.13925337],\n",
       "       [-2.63284791,  0.19007583, -0.04646646],\n",
       "       [-2.58846205,  0.19739308,  0.07127507],\n",
       "       [-2.41007734, -0.41808001,  0.13838824],\n",
       "       [-2.64763667, -0.81998263, -0.2305856 ],\n",
       "       [-2.59715948, -1.10002193, -0.16358191],\n",
       "       [-2.67384469,  0.1066917 ,  0.1915333 ],\n",
       "       [-2.86699985, -0.0771931 ,  0.15684235],\n",
       "       [-2.62522846, -0.60680001,  0.26116316],\n",
       "       [-2.67384469,  0.1066917 ,  0.1915333 ],\n",
       "       [-2.98184266,  0.48025005, -0.07972481],\n",
       "       [-2.59032303, -0.23605934,  0.07390124],\n",
       "       [-2.77013891, -0.27105942, -0.08424157],\n",
       "       [-2.85221108,  0.93286537,  0.34096149],\n",
       "       [-2.99829644,  0.33430757, -0.19900842],\n",
       "       [-2.4055141 , -0.19591726, -0.27071707],\n",
       "       [-2.20883295, -0.44269603, -0.30348781],\n",
       "       [-2.71566519,  0.24268148,  0.09051561],\n",
       "       [-2.53757337, -0.51036755, -0.1719184 ],\n",
       "       [-2.8403213 ,  0.22057634, -0.09006138],\n",
       "       [-2.54268576, -0.58628103,  0.01117527],\n",
       "       [-2.70391231, -0.11501085,  0.08269573],\n",
       "       [ 1.28479459, -0.68543919,  0.40612955],\n",
       "       [ 0.93241075, -0.31919809,  0.01712991],\n",
       "       [ 1.46406132, -0.50418983,  0.33826073],\n",
       "       [ 0.18096721,  0.82560394,  0.17708286],\n",
       "       [ 1.08713449, -0.07539039,  0.30654446],\n",
       "       [ 0.64043675,  0.41732348, -0.04118877],\n",
       "       [ 1.09522371, -0.28389121, -0.17002253],\n",
       "       [-0.75146714,  1.00110751, -0.01567219],\n",
       "       [ 1.04329778, -0.22895691,  0.41481457],\n",
       "       [-0.01019007,  0.72057487, -0.28343725],\n",
       "       [-0.5110862 ,  1.26249195,  0.26648995],\n",
       "       [ 0.51109806,  0.10228411, -0.13232789],\n",
       "       [ 0.26233576,  0.5478933 ,  0.69194158],\n",
       "       [ 0.98404455,  0.12436042,  0.06215743],\n",
       "       [-0.174864  ,  0.25181557, -0.09365864],\n",
       "       [ 0.92757294, -0.46823621,  0.3132294 ],\n",
       "       [ 0.65959279,  0.35197629, -0.3283843 ],\n",
       "       [ 0.23454059,  0.33192183,  0.27028067],\n",
       "       [ 0.94236171,  0.54182226,  0.49734854],\n",
       "       [ 0.0432464 ,  0.58148945,  0.23296356],\n",
       "       [ 1.11624072,  0.08421401, -0.45984423],\n",
       "       [ 0.35678657,  0.06682383,  0.22747218],\n",
       "       [ 1.29646885,  0.32756152,  0.34751321],\n",
       "       [ 0.92050265,  0.18239036,  0.23161142],\n",
       "       [ 0.71400821, -0.15037915,  0.32037233],\n",
       "       [ 0.89964086, -0.32961098,  0.31477148],\n",
       "       [ 1.33104142, -0.24466952,  0.52124492],\n",
       "       [ 1.55739627, -0.26739258,  0.16463849],\n",
       "       [ 0.81245555,  0.16233157, -0.03634358],\n",
       "       [-0.30733476,  0.36508661,  0.3153372 ],\n",
       "       [-0.07034289,  0.70253793,  0.24175804],\n",
       "       [-0.19188449,  0.67749054,  0.30391654],\n",
       "       [ 0.13499495,  0.31170964,  0.1749733 ],\n",
       "       [ 1.37873698,  0.42120514, -0.0154805 ],\n",
       "       [ 0.58727485,  0.48328427, -0.44458375],\n",
       "       [ 0.8072055 , -0.19505396, -0.38945871],\n",
       "       [ 1.22042897, -0.40803534,  0.23656609],\n",
       "       [ 0.81286779,  0.370679  ,  0.61287105],\n",
       "       [ 0.24519516,  0.26672804, -0.18956248],\n",
       "       [ 0.16451343,  0.67966147,  0.05779924],\n",
       "       [ 0.46303099,  0.66952655,  0.02405389],\n",
       "       [ 0.89016045,  0.03381244,  0.00976803],\n",
       "       [ 0.22887905,  0.40225762,  0.22736271],\n",
       "       [-0.70708128,  1.00842476,  0.10206934],\n",
       "       [ 0.35553304,  0.50321849, -0.01788947],\n",
       "       [ 0.33112695,  0.21118014, -0.08380907],\n",
       "       [ 0.37523823,  0.29162202, -0.07907336],\n",
       "       [ 0.64169028, -0.01907118,  0.20417288],\n",
       "       [-0.90846333,  0.75156873,  0.00773658],\n",
       "       [ 0.29780791,  0.34701652, -0.01217914],\n",
       "       [ 2.53172698,  0.01184224, -0.75845865],\n",
       "       [ 1.41407223,  0.57492506, -0.29639822],\n",
       "       [ 2.61648461, -0.34193529,  0.11214137],\n",
       "       [ 1.97081495,  0.18112569, -0.10653915],\n",
       "       [ 2.34975798,  0.04188255, -0.28411068],\n",
       "       [ 3.39687992, -0.54716805,  0.35187316],\n",
       "       [ 0.51938325,  1.19135169, -0.54668553],\n",
       "       [ 2.9320051 , -0.35237701,  0.42369128],\n",
       "       [ 2.31967279,  0.24554817,  0.34992218],\n",
       "       [ 2.91813423, -0.78038063, -0.42173893],\n",
       "       [ 1.66193495, -0.2420384 , -0.24281526],\n",
       "       [ 1.80234045,  0.21615461,  0.03769533],\n",
       "       [ 2.16537886, -0.21528028, -0.03314818],\n",
       "       [ 1.34459422,  0.77641543, -0.28286802],\n",
       "       [ 1.5852673 ,  0.53930705, -0.63057049],\n",
       "       [ 1.90474358, -0.11881899, -0.48013808],\n",
       "       [ 1.94924878, -0.04073026, -0.04272909],\n",
       "       [ 3.48876538, -1.17154454, -0.12932008],\n",
       "       [ 3.79468686, -0.25326557,  0.51697072],\n",
       "       [ 1.29832982,  0.76101394,  0.34488705],\n",
       "       [ 2.42816726, -0.37678197, -0.21864907],\n",
       "       [ 1.19809737,  0.60557896, -0.51264077],\n",
       "       [ 3.49926548, -0.45677347,  0.57691019],\n",
       "       [ 1.38766825,  0.20403099,  0.06351132],\n",
       "       [ 2.27585365, -0.33338653, -0.28467815],\n",
       "       [ 2.61419383, -0.55836695,  0.20842335],\n",
       "       [ 1.25762518,  0.179137  , -0.04697781],\n",
       "       [ 1.29066965,  0.11642525, -0.23161356],\n",
       "       [ 2.12285398,  0.21085488, -0.15351589],\n",
       "       [ 2.3875644 , -0.46251925,  0.45202396],\n",
       "       [ 2.84096093, -0.37274259,  0.50103154],\n",
       "       [ 3.2323429 , -1.37052404,  0.11844878],\n",
       "       [ 2.15873837,  0.21832553, -0.20842198],\n",
       "       [ 1.4431026 ,  0.14380129,  0.15408297],\n",
       "       [ 1.77964011,  0.50146479,  0.17581119],\n",
       "       [ 3.07652162, -0.68576444,  0.33642274],\n",
       "       [ 2.14498686, -0.13890661, -0.73418474],\n",
       "       [ 1.90486293, -0.04804751, -0.16047063],\n",
       "       [ 1.16885347,  0.1645025 , -0.28246088],\n",
       "       [ 2.10765373, -0.37148225, -0.02743786],\n",
       "       [ 2.31430339, -0.18260885, -0.3228604 ],\n",
       "       [ 1.92245088, -0.40927118, -0.11549282],\n",
       "       [ 1.41407223,  0.57492506, -0.29639822],\n",
       "       [ 2.56332271, -0.2759745 , -0.29125361],\n",
       "       [ 2.41939122, -0.30350394, -0.50430252],\n",
       "       [ 1.94401705, -0.18741522, -0.17930287],\n",
       "       [ 1.52566363,  0.37502085,  0.12063644],\n",
       "       [ 1.76404594, -0.07851919, -0.13078405],\n",
       "       [ 1.90162908, -0.11587675, -0.72287356],\n",
       "       [ 1.38966613,  0.28288671, -0.36231783]])"
      ]
     },
     "execution_count": 11,
     "metadata": {},
     "output_type": "execute_result"
    }
   ],
   "source": [
    "#############################\n",
    "### PCA with 3 components  ##\n",
    "#############################\n",
    "\n",
    "pca = decomposition.PCA(n_components=3)\n",
    "pca.fit(X)\n",
    "X_3 = pca.transform(X)\n",
    "\n",
    "X_3"
   ]
  },
  {
   "cell_type": "code",
   "execution_count": 12,
   "metadata": {
    "collapsed": false
   },
   "outputs": [
    {
     "data": {
      "text/plain": [
       "0.96666666666666679"
      ]
     },
     "execution_count": 12,
     "metadata": {},
     "output_type": "execute_result"
    }
   ],
   "source": [
    "# KNN with 3 components  - same accuracy and still removes 25% of data\n",
    "knn = KNeighborsClassifier(n_neighbors=5)\n",
    "cross_val_score(knn, X_3, y, cv=10, scoring='accuracy').mean()"
   ]
  },
  {
   "cell_type": "code",
   "execution_count": 14,
   "metadata": {
    "collapsed": false
   },
   "outputs": [],
   "source": [
    "X_reconstituted = pca.inverse_transform(X_3)"
   ]
  },
  {
   "cell_type": "code",
   "execution_count": 15,
   "metadata": {
    "collapsed": false
   },
   "outputs": [
    {
     "data": {
      "text/plain": [
       "<matplotlib.collections.PathCollection at 0x11580d890>"
      ]
     },
     "execution_count": 15,
     "metadata": {},
     "output_type": "execute_result"
    },
    {
     "data": {
      "image/png": "[encoded data removed]",
      "text/plain": [
       "<matplotlib.figure.Figure at 0x115625cd0>"
      ]
     },
     "metadata": {},
     "output_type": "display_data"
    }
   ],
   "source": [
    "plt.scatter(X[:,2], X[:,3])\n",
    "# Original Data"
   ]
  },
  {
   "cell_type": "code",
   "execution_count": 16,
   "metadata": {
    "collapsed": false
   },
   "outputs": [
    {
     "data": {
      "text/plain": [
       "<matplotlib.collections.PathCollection at 0x115b20a50>"
      ]
     },
     "execution_count": 16,
     "metadata": {},
     "output_type": "execute_result"
    },
    {
     "data": {
      "image/png": "[encoded data removed]",
      "text/plain": [
       "<matplotlib.figure.Figure at 0x115837550>"
      ]
     },
     "metadata": {},
     "output_type": "display_data"
    }
   ],
   "source": [
    "plt.scatter(X_reconstituted[:,2], X_reconstituted[:,3])"
   ]
  },
  {
   "cell_type": "code",
   "execution_count": 17,
   "metadata": {
    "collapsed": false
   },
   "outputs": [
    {
     "name": "stdout",
     "output_type": "stream",
     "text": [
      "explained variance ratio (first two components): [ 0.92461621  0.05301557  0.01718514  0.00518309]\n"
     ]
    }
   ],
   "source": [
    "#############################\n",
    "### choosing components  ####\n",
    "#############################\n",
    "\n",
    "\n",
    "\n",
    "pca = decomposition.PCA(n_components=4)\n",
    "X_r = pca.fit_transform(X)\n",
    "\n",
    "# Percentage of variance explained for each components\n",
    "print('explained variance ratio (first two components): %s'\n",
    "      % str(pca.explained_variance_ratio_))"
   ]
  },
  {
   "cell_type": "code",
   "execution_count": 18,
   "metadata": {
    "collapsed": false
   },
   "outputs": [
    {
     "data": {
      "text/plain": [
       "<matplotlib.text.Text at 0x115625590>"
      ]
     },
     "execution_count": 18,
     "metadata": {},
     "output_type": "execute_result"
    },
    {
     "data": {
      "image/png": "[encoded data removed]",
      "text/plain": [
       "<matplotlib.figure.Figure at 0x115b3cad0>"
      ]
     },
     "metadata": {},
     "output_type": "display_data"
    }
   ],
   "source": [
    "plt.plot(pca.explained_variance_ratio_)\n",
    "plt.title('Variance explained by each principal component')\n",
    "plt.ylabel(' % Variance Explained')\n",
    "plt.xlabel('Principal component')\n",
    "\n",
    "# 2 components is enough!!"
   ]
  },
  {
   "cell_type": "code",
   "execution_count": 19,
   "metadata": {
    "collapsed": true
   },
   "outputs": [],
   "source": [
    "from sklearn.feature_extraction.text import CountVectorizer\n",
    "import pandas as pd"
   ]
  },
  {
   "cell_type": "code",
   "execution_count": 20,
   "metadata": {
    "collapsed": false
   },
   "outputs": [],
   "source": [
    "\n",
    "url = '../data/yelp.csv'\n",
    "yelp = pd.read_csv(url, encoding='unicode-escape')\n",
    "\n",
    "# create a new DataFrame that only contains the 5-star and 1-star reviews\n",
    "yelp_best_worst = yelp[(yelp.stars==5) | (yelp.stars==1)]\n",
    "\n",
    "# define X and y\n",
    "X = yelp_best_worst.text\n",
    "y = yelp_best_worst.stars == 5"
   ]
  },
  {
   "cell_type": "code",
   "execution_count": 21,
   "metadata": {
    "collapsed": true
   },
   "outputs": [],
   "source": [
    "from sklearn.linear_model import LogisticRegression\n",
    "lr = LogisticRegression()"
   ]
  },
  {
   "cell_type": "code",
   "execution_count": 22,
   "metadata": {
    "collapsed": false
   },
   "outputs": [
    {
     "data": {
      "text/plain": [
       "0.93245414867556398"
      ]
     },
     "execution_count": 22,
     "metadata": {},
     "output_type": "execute_result"
    }
   ],
   "source": [
    "# removing no features\n",
    "from sklearn.pipeline import Pipeline\n",
    "\n",
    "vect = CountVectorizer(stop_words='english')\n",
    "# all_dtm = vect.fit_transform(X)\n",
    "pipe = Pipeline(steps=[('transform', vect), ('lr', lr)])\n",
    "cross_val_score(pipe, X, y, cv=10, scoring='accuracy').mean()"
   ]
  },
  {
   "cell_type": "code",
   "execution_count": 23,
   "metadata": {
    "collapsed": false
   },
   "outputs": [
    {
     "data": {
      "text/plain": [
       "0.92510597508979497"
      ]
     },
     "execution_count": 23,
     "metadata": {},
     "output_type": "execute_result"
    }
   ],
   "source": [
    "vect = CountVectorizer(stop_words='english', max_features = 1000)\n",
    "pipe = Pipeline(steps=[('transform', vect), ('lr', lr)])\n",
    "cross_val_score(pipe, X, y, cv=10, scoring='accuracy').mean()"
   ]
  },
  {
   "cell_type": "code",
   "execution_count": 24,
   "metadata": {
    "collapsed": false
   },
   "outputs": [
    {
     "data": {
      "text/plain": [
       "0.88889675536446711"
      ]
     },
     "execution_count": 24,
     "metadata": {},
     "output_type": "execute_result"
    }
   ],
   "source": [
    "vect = CountVectorizer(stop_words='english', max_features = 100)\n",
    "pipe = Pipeline(steps=[('transform', vect), ('lr', lr)])\n",
    "cross_val_score(pipe, X, y, cv=10, scoring='accuracy').mean()"
   ]
  },
  {
   "cell_type": "code",
   "execution_count": 124,
   "metadata": {
    "collapsed": true
   },
   "outputs": [],
   "source": [
    "##############\n",
    "## EXERCISE ##\n",
    "##############\n",
    "\n",
    "\n",
    "# make a count vectorizer with english stopwords and 1,000 max features\n",
    "\n",
    "\n",
    "# create a variable called all_dtm to fit and transform X\n",
    "\n",
    "\n",
    "\n",
    "\n",
    "\n",
    "\n",
    "\n",
    "\n",
    "\n",
    "\n",
    "\n"
   ]
  },
  {
   "cell_type": "code",
   "execution_count": 25,
   "metadata": {
    "collapsed": true
   },
   "outputs": [],
   "source": [
    "# make a count vectorizer with english stopwords and 1,000 max features\n",
    "vect = CountVectorizer(stop_words='english', max_features = 1000)\n",
    "\n",
    "# create a variable called all_dtm to fit and transform X\n",
    "all_dtm = vect.fit_transform(X)"
   ]
  },
  {
   "cell_type": "code",
   "execution_count": 26,
   "metadata": {
    "collapsed": false
   },
   "outputs": [],
   "source": [
    "# use PCA to reduce all_dtm (which has 1000 features to only have to 100 dimensions\n",
    "pca = decomposition.PCA(n_components=100)\n",
    "\n",
    "# PCA cannot take in a sparse matrix, so I include toarray to make the array \"dense\"\n",
    "X_r = pca.fit_transform(all_dtm.toarray())"
   ]
  },
  {
   "cell_type": "code",
   "execution_count": 27,
   "metadata": {
    "collapsed": false
   },
   "outputs": [
    {
     "data": {
      "text/plain": [
       "0.91262935513079335"
      ]
     },
     "execution_count": 27,
     "metadata": {},
     "output_type": "execute_result"
    }
   ],
   "source": [
    "# compare PCA of 100 components to max_features of 100 or 1000\n",
    "cross_val_score(lr, X_r, y, cv=10, scoring='accuracy').mean()\n",
    "# Very comparable!"
   ]
  },
  {
   "cell_type": "code",
   "execution_count": 28,
   "metadata": {
    "collapsed": false
   },
   "outputs": [
    {
     "data": {
      "text/plain": [
       "<matplotlib.text.Text at 0x11e8e7150>"
      ]
     },
     "execution_count": 28,
     "metadata": {},
     "output_type": "execute_result"
    },
    {
     "data": {
      "image/png": "[encoded data removed]",
      "text/plain": [
       "<matplotlib.figure.Figure at 0x11dcab410>"
      ]
     },
     "metadata": {},
     "output_type": "display_data"
    }
   ],
   "source": [
    "plt.plot(pca.explained_variance_ratio_)\n",
    "plt.title('Variance explained by each principal component')\n",
    "plt.ylabel(' % Variance Explained')\n",
    "plt.xlabel('Principal component')"
   ]
  },
  {
   "cell_type": "code",
   "execution_count": 29,
   "metadata": {
    "collapsed": false
   },
   "outputs": [
    {
     "data": {
      "text/plain": [
       "0.88154438694673121"
      ]
     },
     "execution_count": 29,
     "metadata": {},
     "output_type": "execute_result"
    }
   ],
   "source": [
    "# use PCA to reduce all_dtm (which has 1000 features to only have to 20 dimensions\n",
    "pca = decomposition.PCA(n_components=20)\n",
    "\n",
    "# PCA cannot take in a sparse matrix, so I include toarray to make the array \"dense\"\n",
    "X_r = pca.fit_transform(all_dtm.toarray())\n",
    "\n",
    "# compare PCA of 100 components to max_features of 100 or 1000\n",
    "cross_val_score(lr, X_r, y, cv=10, scoring='accuracy').mean()\n",
    "# Still very comparable!"
   ]
  },
  {
   "cell_type": "markdown",
   "metadata": {
    "collapsed": true
   },
   "source": [
    "Note that PCA does require scaled data, but because I knew that each column was on the same unit (\"words\")\n",
    "I did not need to preform any standardization"
   ]
  },
  {
   "cell_type": "code",
   "execution_count": null,
   "metadata": {
    "collapsed": true
   },
   "outputs": [],
   "source": []
  },
  {
   "cell_type": "code",
   "execution_count": null,
   "metadata": {
    "collapsed": true
   },
   "outputs": [],
   "source": []
  },
  {
   "cell_type": "code",
   "execution_count": null,
   "metadata": {
    "collapsed": true
   },
   "outputs": [],
   "source": []
  },
  {
   "cell_type": "code",
   "execution_count": 116,
   "metadata": {
    "collapsed": false
   },
   "outputs": [
    {
     "name": "stdout",
     "output_type": "stream",
     "text": [
      "trying 0 principal components with a distance of: 220.886504\n",
      "trying 10 principal components with a distance of: 57.006107\n",
      "trying 20 principal components with a distance of: 37.993758\n",
      "trying 30 principal components with a distance of: 28.101624\n",
      "trying 40 principal components with a distance of: 21.989006\n",
      "trying 50 principal components with a distance of: 17.685536\n",
      "trying 60 principal components with a distance of: 14.358811\n",
      "trying 70 principal components with a distance of: 11.752487\n",
      "trying 80 principal components with a distance of: 9.630962\n",
      "trying 90 principal components with a distance of: 7.930524\n",
      "trying 100 principal components with a distance of: 6.584847\n",
      "trying 110 principal components with a distance of: 5.428057\n",
      "trying 120 principal components with a distance of: 4.475388\n",
      "trying 130 principal components with a distance of: 3.656138\n",
      "trying 140 principal components with a distance of: 2.982499\n",
      "trying 150 principal components with a distance of: 2.410273\n",
      "trying 160 principal components with a distance of: 1.905174\n",
      "trying 170 principal components with a distance of: 1.504029\n",
      "trying 180 principal components with a distance of: 1.177524\n",
      "trying 190 principal components with a distance of: 0.953719\n",
      "trying 200 principal components with a distance of: 0.851538\n",
      "trying 210 principal components with a distance of: 0.811436\n",
      "trying 220 principal components with a distance of: 0.775878\n",
      "trying 230 principal components with a distance of: 0.743080\n",
      "trying 240 principal components with a distance of: 0.712188\n",
      "trying 250 principal components with a distance of: 0.682751\n",
      "trying 260 principal components with a distance of: 0.654651\n",
      "trying 270 principal components with a distance of: 0.627909\n",
      "trying 280 principal components with a distance of: 0.602188\n",
      "trying 290 principal components with a distance of: 0.577549\n",
      "trying 300 principal components with a distance of: 0.553804\n",
      "trying 310 principal components with a distance of: 0.530908\n",
      "trying 320 principal components with a distance of: 0.508528\n",
      "trying 330 principal components with a distance of: 0.486961\n",
      "trying 340 principal components with a distance of: 0.466147\n",
      "trying 350 principal components with a distance of: 0.445874\n",
      "trying 360 principal components with a distance of: 0.426268\n",
      "trying 370 principal components with a distance of: 0.407233\n",
      "trying 380 principal components with a distance of: 0.388622\n",
      "trying 390 principal components with a distance of: 0.370589\n",
      "trying 400 principal components with a distance of: 0.352914\n",
      "trying 410 principal components with a distance of: 0.335717\n",
      "trying 420 principal components with a distance of: 0.318927\n",
      "trying 430 principal components with a distance of: 0.302485\n",
      "trying 440 principal components with a distance of: 0.286505\n",
      "trying 450 principal components with a distance of: 0.270798\n",
      "trying 460 principal components with a distance of: 0.255473\n",
      "trying 470 principal components with a distance of: 0.240514\n",
      "trying 480 principal components with a distance of: 0.225902\n",
      "trying 490 principal components with a distance of: 0.211560\n",
      "trying 500 principal components with a distance of: 0.197555\n",
      "trying 510 principal components with a distance of: 0.183842\n",
      "trying 520 principal components with a distance of: 0.170432\n",
      "trying 530 principal components with a distance of: 0.157277\n",
      "trying 540 principal components with a distance of: 0.144359\n",
      "trying 550 principal components with a distance of: 0.131545\n",
      "trying 560 principal components with a distance of: 0.118856\n",
      "trying 570 principal components with a distance of: 0.106237\n",
      "trying 580 principal components with a distance of: 0.093780\n",
      "trying 590 principal components with a distance of: 0.081376\n",
      "trying 600 principal components with a distance of: 0.068862\n",
      "trying 610 principal components with a distance of: 0.056075\n",
      "trying 620 principal components with a distance of: 0.042883\n",
      "trying 630 principal components with a distance of: 0.028314\n",
      "trying 640 principal components with a distance of: 0.009328\n",
      "trying 650 principal components with a distance of: 0.000003\n"
     ]
    },
    {
     "data": {
      "image/png": "[encoded data removed]",
      "text/plain": [
       "<matplotlib.figure.Figure at 0x11a6b3190>"
      ]
     },
     "metadata": {},
     "output_type": "display_data"
    },
    {
     "data": {
      "image/png": "[encoded data removed]",
      "text/plain": [
       "<matplotlib.figure.Figure at 0x11a6b3ed0>"
      ]
     },
     "metadata": {},
     "output_type": "display_data"
    }
   ],
   "source": [
    "# BONUS SHAKIRA\n",
    "\n",
    "\n",
    "from pylab import imread, imsave, subplot, imshow, title, gray, figure, show, NullLocator\n",
    "from numpy import mean, cov, dot, linalg, size, argsort\n",
    "\n",
    "def princomp(A, numpc=0):\n",
    "    # computing eigenvalues and eigenvectors of covariance matrix\n",
    "    M = (A-mean(A.T,axis=1)).T # subtract the mean (along columns)\n",
    "    [latent,coeff] = linalg.eig(cov(M))\n",
    "    p = size(coeff,axis=1)\n",
    "    idx = argsort(latent) # sorting the eigenvalues\n",
    "    idx = idx[::-1]       # in ascending order\n",
    "    # sorting eigenvectors according to the sorted eigenvalues\n",
    "    coeff = coeff[:,idx]\n",
    "    latent = latent[idx] # sorting eigenvalues\n",
    "    if numpc < p and numpc >= 0:\n",
    "        coeff = coeff[:,range(numpc)] # cutting some PCs if needed\n",
    "    score = dot(coeff.T,M) # projection of the data in the new space\n",
    "    return coeff,score,latent\n",
    "\n",
    "A = imread('../data/shakira.png') # load an image\n",
    "A = mean(A,2) # to get a 2-D array\n",
    "full_pc = size(A,axis=1) # numbers of all the principal components\n",
    "i = 1\n",
    "dist = []\n",
    "for numpc in range(0,full_pc+10,10): # 0 10 20 ... full_pc\n",
    "    coeff, score, latent = princomp(A,numpc)\n",
    "    Ar = dot(coeff,score).T+mean(A,axis=0) # image reconstruction\n",
    "    # difference in Frobenius norm\n",
    "    dist.append(linalg.norm(A-Ar,'fro'))\n",
    "    # showing the pics reconstructed with less than 50 PCs\n",
    "    print \"trying %s principal components with a distance of: %f\"%(numpc,dist[-1])\n",
    "    if numpc <= 50:\n",
    "        if numpc == 50:\n",
    "            imsave(fname= '../data/'+str(numpc)+'.png', arr = Ar)\n",
    "        ax = subplot(2,3,i,frame_on=False)\n",
    "        ax.xaxis.set_major_locator(NullLocator()) # remove ticks\n",
    "        ax.yaxis.set_major_locator(NullLocator())\n",
    "        i += 1\n",
    "        imshow(Ar)\n",
    "        title('PCs # '+str(numpc))\n",
    "        gray()\n",
    "\n",
    "figure()\n",
    "imshow(A)\n",
    "title('numpc FULL')\n",
    "gray()\n",
    "show()"
   ]
  },
  {
   "cell_type": "code",
   "execution_count": null,
   "metadata": {
    "collapsed": true
   },
   "outputs": [],
   "source": []
  },
  {
   "cell_type": "code",
   "execution_count": null,
   "metadata": {
    "collapsed": false
   },
   "outputs": [],
   "source": []
  },
  {
   "cell_type": "code",
   "execution_count": null,
   "metadata": {
    "collapsed": true
   },
   "outputs": [],
   "source": [
    "# BONUS Face recognition:\n",
    "\n",
    "# derived from \n",
    "\n",
    "# http://scikit-learn.org/stable/tutorial/statistical_inference/putting_together.html"
   ]
  },
  {
   "cell_type": "code",
   "execution_count": 6,
   "metadata": {
    "collapsed": false
   },
   "outputs": [],
   "source": [
    "from sklearn.datasets import fetch_lfw_people\n",
    "\n",
    "lfw_people = fetch_lfw_people(min_faces_per_person=70, resize=0.4)\n",
    "\n",
    "# introspect the images arrays to find the shapes (for plotting)\n",
    "n_samples, h, w = lfw_people.images.shape\n",
    "\n",
    "# for machine learning we use the 2 data directly (as relative pixel\n",
    "# positions info is ignored by this model)\n",
    "X = lfw_people.data\n",
    "n_features = X.shape[1]"
   ]
  },
  {
   "cell_type": "code",
   "execution_count": 7,
   "metadata": {
    "collapsed": false
   },
   "outputs": [
    {
     "name": "stdout",
     "output_type": "stream",
     "text": [
      "Total dataset size:\n",
      "n_samples: 1288\n",
      "n_features: 1850\n",
      "n_classes: 7\n"
     ]
    }
   ],
   "source": [
    "# the label to predict is the id of the person\n",
    "y = lfw_people.target\n",
    "target_names = lfw_people.target_names\n",
    "n_classes = target_names.shape[0]\n",
    "\n",
    "print(\"Total dataset size:\")\n",
    "print(\"n_samples: %d\" % n_samples)\n",
    "print(\"n_features: %d\" % n_features)\n",
    "print(\"n_classes: %d\" % n_classes)"
   ]
  },
  {
   "cell_type": "code",
   "execution_count": 21,
   "metadata": {
    "collapsed": false
   },
   "outputs": [
    {
     "name": "stdout",
     "output_type": "stream",
     "text": [
      "Extracting the top 150 eigenfaces from 966 faces\n",
      "Projecting the input data on the eigenfaces orthonormal basis\n"
     ]
    }
   ],
   "source": [
    "# split into a training and testing set\n",
    "from sklearn.cross_validation import train_test_split\n",
    "\n",
    "X_train, X_test, y_train, y_test = train_test_split(\n",
    "    X, y, test_size=0.25, random_state=1)\n",
    "# will use x_test as sample OOS data\n",
    "\n",
    "###############################################################################\n",
    "# Compute a PCA (eigenfaces) on the face dataset (treated as unlabeled\n",
    "# dataset): unsupervised feature extraction / dimensionality reduction\n",
    "n_components = 150\n",
    "\n",
    "print(\"Extracting the top %d eigenfaces from %d faces\"\n",
    "      % (n_components, X_train.shape[0]))\n",
    "pca = decomposition.PCA(n_components=n_components, whiten=True).fit(X_train)\n",
    "\n",
    "eigenfaces = pca.components_.reshape((n_components, h, w))\n",
    "\n",
    "print(\"Projecting the input data on the eigenfaces orthonormal basis\")\n",
    "X_train_pca = pca.transform(X_train)\n",
    "X_test_pca = pca.transform(X_test)"
   ]
  },
  {
   "cell_type": "code",
   "execution_count": 47,
   "metadata": {
    "collapsed": false
   },
   "outputs": [
    {
     "name": "stdout",
     "output_type": "stream",
     "text": [
      "Fitting the classifier to the training set WITHOUT PCA\n",
      "LogisticRegression(C=0.1, class_weight=None, dual=False, fit_intercept=True,\n",
      "          intercept_scaling=1, max_iter=100, multi_class='ovr', n_jobs=1,\n",
      "          penalty='l2', random_state=None, solver='liblinear', tol=0.0001,\n",
      "          verbose=0, warm_start=False) best estimator\n",
      "Predicting people's names on the test set\n",
      "                   precision    recall  f1-score   support\n",
      "\n",
      "     Ariel Sharon       0.72      0.68      0.70        19\n",
      "     Colin Powell       0.83      0.71      0.76        55\n",
      "  Donald Rumsfeld       0.62      0.72      0.67        25\n",
      "    George W Bush       0.87      0.90      0.89       142\n",
      "Gerhard Schroeder       0.79      0.84      0.81        31\n",
      "      Hugo Chavez       0.87      0.81      0.84        16\n",
      "       Tony Blair       0.73      0.71      0.72        34\n",
      "\n",
      "      avg / total       0.81      0.81      0.81       322\n",
      "\n",
      "[[ 13   1   3   1   0   0   1]\n",
      " [  2  39   2   8   0   2   2]\n",
      " [  1   0  18   5   0   0   1]\n",
      " [  2   3   3 128   6   0   0]\n",
      " [  0   0   1   0  26   0   4]\n",
      " [  0   1   0   0   1  13   1]\n",
      " [  0   3   2   5   0   0  24]]\n",
      "39.3146409988 seconds\n"
     ]
    }
   ],
   "source": [
    "from sklearn.linear_model import LogisticRegression\n",
    "from sklearn.grid_search import GridSearchCV\n",
    "from sklearn.metrics import classification_report, confusion_matrix, accuracy_score\n",
    "from time import time\n",
    "\n",
    "t0 = time()\n",
    "logreg = LogisticRegression()\n",
    "print(\"Fitting the classifier to the training set WITHOUT PCA\")\n",
    "param_grid = {'C': [1e-1,1,1e1]}\n",
    "clf = GridSearchCV(logreg, param_grid)\n",
    "clf = clf.fit(X_train, y_train)\n",
    "clf = clf.best_estimator_\n",
    "\n",
    "print clf, \"best estimator\"\n",
    "\n",
    "###############################################################################\n",
    "# Quantitative evaluation of the model quality on the test set\n",
    "\n",
    "print(\"Predicting people's names on the test set\")\n",
    "y_pred = clf.predict(X_test)\n",
    "\n",
    "\n",
    "print accuracy_score(y_pred, y_test), \"Accuracy\"\n",
    "print(classification_report(y_test, y_pred, target_names=target_names))\n",
    "print(confusion_matrix(y_test, y_pred, labels=range(n_classes)))\n",
    "print (time() - t0), \"seconds\""
   ]
  },
  {
   "cell_type": "code",
   "execution_count": 48,
   "metadata": {
    "collapsed": false
   },
   "outputs": [
    {
     "name": "stdout",
     "output_type": "stream",
     "text": [
      "Fitting the classifier to the training set\n",
      "LogisticRegression(C=0.1, class_weight=None, dual=False, fit_intercept=True,\n",
      "          intercept_scaling=1, max_iter=100, multi_class='ovr', n_jobs=1,\n",
      "          penalty='l2', random_state=None, solver='liblinear', tol=0.0001,\n",
      "          verbose=0, warm_start=False) best estimator\n",
      "Predicting people's names on the test set WITH PCA\n",
      "0.816770186335 Accuracy\n",
      "                   precision    recall  f1-score   support\n",
      "\n",
      "     Ariel Sharon       0.78      0.74      0.76        19\n",
      "     Colin Powell       0.80      0.75      0.77        55\n",
      "  Donald Rumsfeld       0.62      0.64      0.63        25\n",
      "    George W Bush       0.89      0.91      0.90       142\n",
      "Gerhard Schroeder       0.74      0.84      0.79        31\n",
      "      Hugo Chavez       0.87      0.81      0.84        16\n",
      "       Tony Blair       0.75      0.71      0.73        34\n",
      "\n",
      "      avg / total       0.82      0.82      0.82       322\n",
      "\n",
      "[[ 14   2   2   0   1   0   0]\n",
      " [  2  41   2   5   1   1   3]\n",
      " [  0   1  16   7   0   0   1]\n",
      " [  2   3   4 129   4   0   0]\n",
      " [  0   0   0   1  26   1   3]\n",
      " [  0   1   0   0   1  13   1]\n",
      " [  0   3   2   3   2   0  24]]\n",
      "0.00286483764648 seconds\n"
     ]
    }
   ],
   "source": [
    "logreg = LogisticRegression()\n",
    "print(\"Fitting the classifier to the training set\")\n",
    "param_grid = {'C': [1e-1,1,1e1]}\n",
    "clf = GridSearchCV(logreg, param_grid)\n",
    "clf = clf.fit(X_train_pca, y_train)\n",
    "clf = clf.best_estimator_\n",
    "\n",
    "print clf, \"best estimator\"\n",
    "\n",
    "t0 = time()\n",
    "###############################################################################\n",
    "# Quantitative evaluation of the model quality on the test set\n",
    "\n",
    "print(\"Predicting people's names on the test set WITH PCA\")\n",
    "y_pred = clf.predict(X_test_pca)\n",
    "\n",
    "print accuracy_score(y_pred, y_test), \"Accuracy\"\n",
    "print(classification_report(y_test, y_pred, target_names=target_names))\n",
    "print(confusion_matrix(y_test, y_pred, labels=range(n_classes)))\n",
    "print (time() - t0), \"seconds\""
   ]
  },
  {
   "cell_type": "code",
   "execution_count": null,
   "metadata": {
    "collapsed": true
   },
   "outputs": [],
   "source": []
  },
  {
   "cell_type": "code",
   "execution_count": null,
   "metadata": {
    "collapsed": true
   },
   "outputs": [],
   "source": []
  },
  {
   "cell_type": "code",
   "execution_count": null,
   "metadata": {
    "collapsed": true
   },
   "outputs": [],
   "source": []
  },
  {
   "cell_type": "code",
   "execution_count": null,
   "metadata": {
    "collapsed": true
   },
   "outputs": [],
   "source": [
    "# Use a pipeline to make this process easier"
   ]
  },
  {
   "cell_type": "code",
   "execution_count": 55,
   "metadata": {
    "collapsed": false
   },
   "outputs": [],
   "source": [
    "from sklearn.pipeline import Pipeline\n",
    "pca = decomposition.PCA(n_components=150, whiten=True)\n",
    "logreg = LogisticRegression(C=1e-1)\n",
    "pipe = Pipeline(steps=[('pca', pca), ('logistic', logreg)])"
   ]
  },
  {
   "cell_type": "code",
   "execution_count": 58,
   "metadata": {
    "collapsed": false
   },
   "outputs": [],
   "source": [
    "cv = cross_val_score(pipe, X, y)"
   ]
  },
  {
   "cell_type": "code",
   "execution_count": 59,
   "metadata": {
    "collapsed": false
   },
   "outputs": [
    {
     "data": {
      "text/plain": [
       "array([ 0.82175926,  0.8372093 ,  0.79812207])"
      ]
     },
     "execution_count": 59,
     "metadata": {},
     "output_type": "execute_result"
    }
   ],
   "source": [
    "cv"
   ]
  },
  {
   "cell_type": "code",
   "execution_count": 56,
   "metadata": {
    "collapsed": true
   },
   "outputs": [],
   "source": [
    "cv = cross_val_score(logreg, X, y)"
   ]
  },
  {
   "cell_type": "code",
   "execution_count": 57,
   "metadata": {
    "collapsed": false
   },
   "outputs": [
    {
     "data": {
      "text/plain": [
       "array([ 0.82175926,  0.82790698,  0.78403756])"
      ]
     },
     "execution_count": 57,
     "metadata": {},
     "output_type": "execute_result"
    }
   ],
   "source": [
    "cv"
   ]
  },
  {
   "cell_type": "code",
   "execution_count": 80,
   "metadata": {
    "collapsed": false
   },
   "outputs": [
    {
     "name": "stdout",
     "output_type": "stream",
     "text": [
      "8.11690807343 Seconds\n"
     ]
    }
   ],
   "source": [
    "# BUT for ease:\n",
    "t0 = time()\n",
    "logreg.fit(X, y)\n",
    "logreg.predict(X)\n",
    "print (time() - t0), \"Seconds\""
   ]
  },
  {
   "cell_type": "code",
   "execution_count": 81,
   "metadata": {
    "collapsed": false
   },
   "outputs": [
    {
     "name": "stdout",
     "output_type": "stream",
     "text": [
      "1.14167499542 Seconds\n"
     ]
    }
   ],
   "source": [
    "t0 = time()\n",
    "pipe.fit(X, y)\n",
    "pipe.predict(X)\n",
    "print (time() - t0), \"Seconds\""
   ]
  },
  {
   "cell_type": "code",
   "execution_count": null,
   "metadata": {
    "collapsed": false
   },
   "outputs": [],
   "source": []
  },
  {
   "cell_type": "code",
   "execution_count": null,
   "metadata": {
    "collapsed": false
   },
   "outputs": [],
   "source": []
  },
  {
   "cell_type": "code",
   "execution_count": null,
   "metadata": {
    "collapsed": true
   },
   "outputs": [],
   "source": []
  }
 ],
 "metadata": {
  "anaconda-cloud": {},
  "kernelspec": {
   "display_name": "Python [datascience]",
   "language": "python",
   "name": "Python [datascience]"
  },
  "language_info": {
   "codemirror_mode": {
    "name": "ipython",
    "version": 2
   },
   "file_extension": ".py",
   "mimetype": "text/x-python",
   "name": "python",
   "nbconvert_exporter": "python",
   "pygments_lexer": "ipython2",
   "version": "2.7.12"
  }
 },
 "nbformat": 4,
 "nbformat_minor": 0
}
